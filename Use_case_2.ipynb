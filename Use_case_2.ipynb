{
  "nbformat": 4,
  "nbformat_minor": 0,
  "metadata": {
    "colab": {
      "provenance": [],
      "authorship_tag": "ABX9TyNHQYUrtSvYKD77JB9pPKh/",
      "include_colab_link": true
    },
    "kernelspec": {
      "name": "python3",
      "display_name": "Python 3"
    },
    "language_info": {
      "name": "python"
    }
  },
  "cells": [
    {
      "cell_type": "markdown",
      "metadata": {
        "id": "view-in-github",
        "colab_type": "text"
      },
      "source": [
        "<a href=\"https://colab.research.google.com/github/magdalenamorawska/Uczenie-Maszynowe-w-Finansach-/blob/Use-Case-2/Use_case_2.ipynb\" target=\"_parent\"><img src=\"https://colab.research.google.com/assets/colab-badge.svg\" alt=\"Open In Colab\"/></a>"
      ]
    },
    {
      "cell_type": "markdown",
      "source": [
        "• Odpowiedz/ pokaz część danych z wylosowanego zadania\n",
        "\n",
        "• Zbuduj system rekomendacyjny używając biblioteki SURPRISE\n",
        "\n",
        "• Użyj dwóch algorytmów SVD oraz kNN w wersji wylosowanej\n",
        "\n",
        "• Użyj optymalizacji parametrów metodą GRID search do wyboru\n",
        "liczby sąsiadów z wylosowanego przedziału\n",
        "\n",
        "• Użyj walidacji krzyżowej dla ostatecznego modelu\n",
        "\n",
        "• Porównaj oba algorytmy pod względem czasu uczenia oraz\n",
        "wylosowanych błędów\\"
      ],
      "metadata": {
        "id": "fEm5jOYztuK_"
      }
    },
    {
      "cell_type": "markdown",
      "source": [
        "Import bibliotek"
      ],
      "metadata": {
        "id": "698L8oJevEIq"
      }
    },
    {
      "cell_type": "code",
      "source": [
        "import pandas as pd\n",
        "import matplotlib.pyplot as plt\n",
        "import numpy as np\n",
        "from tabulate import tabulate\n",
        "from surprise import Reader, Dataset\n",
        "from surprise.model_selection import train_test_split, cross_validate, GridSearchCV\n",
        "from surprise import KNNBasic, KNNWithMeans, KNNWithZScore, KNNBaseline, SVD\n",
        "from surprise import accuracy\n",
        "\n"
      ],
      "metadata": {
        "id": "XP-45Qaytjjm"
      },
      "execution_count": 22,
      "outputs": []
    },
    {
      "cell_type": "code",
      "source": [
        "pip install scikit-surprise\n"
      ],
      "metadata": {
        "colab": {
          "base_uri": "https://localhost:8080/"
        },
        "id": "aIR1_v6C1lgp",
        "outputId": "24d7cdec-9135-472d-fb0c-54241ac11950"
      },
      "execution_count": 2,
      "outputs": [
        {
          "output_type": "stream",
          "name": "stdout",
          "text": [
            "Collecting scikit-surprise\n",
            "  Downloading scikit-surprise-1.1.3.tar.gz (771 kB)\n",
            "\u001b[2K     \u001b[90m━━━━━━━━━━━━━━━━━━━━━━━━━━━━━━━━━━━━━━━━\u001b[0m \u001b[32m772.0/772.0 kB\u001b[0m \u001b[31m7.8 MB/s\u001b[0m eta \u001b[36m0:00:00\u001b[0m\n",
            "\u001b[?25h  Preparing metadata (setup.py) ... \u001b[?25l\u001b[?25hdone\n",
            "Requirement already satisfied: joblib>=1.0.0 in /usr/local/lib/python3.10/dist-packages (from scikit-surprise) (1.4.0)\n",
            "Requirement already satisfied: numpy>=1.17.3 in /usr/local/lib/python3.10/dist-packages (from scikit-surprise) (1.25.2)\n",
            "Requirement already satisfied: scipy>=1.3.2 in /usr/local/lib/python3.10/dist-packages (from scikit-surprise) (1.11.4)\n",
            "Building wheels for collected packages: scikit-surprise\n",
            "  Building wheel for scikit-surprise (setup.py) ... \u001b[?25l\u001b[?25hdone\n",
            "  Created wheel for scikit-surprise: filename=scikit_surprise-1.1.3-cp310-cp310-linux_x86_64.whl size=3163001 sha256=98f358cbd088a923669df461a0173089d74076acfd5044e40512b6eb09ba91fa\n",
            "  Stored in directory: /root/.cache/pip/wheels/a5/ca/a8/4e28def53797fdc4363ca4af740db15a9c2f1595ebc51fb445\n",
            "Successfully built scikit-surprise\n",
            "Installing collected packages: scikit-surprise\n",
            "Successfully installed scikit-surprise-1.1.3\n"
          ]
        }
      ]
    },
    {
      "cell_type": "markdown",
      "source": [
        "Impoprt danych"
      ],
      "metadata": {
        "id": "tpCFHCZqvFyF"
      }
    },
    {
      "cell_type": "code",
      "execution_count": 4,
      "metadata": {
        "id": "VXejXpapsk9n"
      },
      "outputs": [],
      "source": [
        "ratings = pd.read_csv('https://s3-us-west-2.amazonaws.com/recommender-tutorial/ratings.csv')\n",
        "movies = pd.read_csv('https://s3-us-west-2.amazonaws.com/recommender-tutorial/movies.csv')\n"
      ]
    },
    {
      "cell_type": "code",
      "source": [
        "ratings.head()"
      ],
      "metadata": {
        "colab": {
          "base_uri": "https://localhost:8080/",
          "height": 206
        },
        "id": "Dqgi_8MJvTbb",
        "outputId": "4424b26f-c089-44f0-fa99-d7e09792ce50"
      },
      "execution_count": 5,
      "outputs": [
        {
          "output_type": "execute_result",
          "data": {
            "text/plain": [
              "   userId  movieId  rating  timestamp\n",
              "0       1        1     4.0  964982703\n",
              "1       1        3     4.0  964981247\n",
              "2       1        6     4.0  964982224\n",
              "3       1       47     5.0  964983815\n",
              "4       1       50     5.0  964982931"
            ],
            "text/html": [
              "\n",
              "  <div id=\"df-4b157186-9330-4f55-aad3-1d034a443230\" class=\"colab-df-container\">\n",
              "    <div>\n",
              "<style scoped>\n",
              "    .dataframe tbody tr th:only-of-type {\n",
              "        vertical-align: middle;\n",
              "    }\n",
              "\n",
              "    .dataframe tbody tr th {\n",
              "        vertical-align: top;\n",
              "    }\n",
              "\n",
              "    .dataframe thead th {\n",
              "        text-align: right;\n",
              "    }\n",
              "</style>\n",
              "<table border=\"1\" class=\"dataframe\">\n",
              "  <thead>\n",
              "    <tr style=\"text-align: right;\">\n",
              "      <th></th>\n",
              "      <th>userId</th>\n",
              "      <th>movieId</th>\n",
              "      <th>rating</th>\n",
              "      <th>timestamp</th>\n",
              "    </tr>\n",
              "  </thead>\n",
              "  <tbody>\n",
              "    <tr>\n",
              "      <th>0</th>\n",
              "      <td>1</td>\n",
              "      <td>1</td>\n",
              "      <td>4.0</td>\n",
              "      <td>964982703</td>\n",
              "    </tr>\n",
              "    <tr>\n",
              "      <th>1</th>\n",
              "      <td>1</td>\n",
              "      <td>3</td>\n",
              "      <td>4.0</td>\n",
              "      <td>964981247</td>\n",
              "    </tr>\n",
              "    <tr>\n",
              "      <th>2</th>\n",
              "      <td>1</td>\n",
              "      <td>6</td>\n",
              "      <td>4.0</td>\n",
              "      <td>964982224</td>\n",
              "    </tr>\n",
              "    <tr>\n",
              "      <th>3</th>\n",
              "      <td>1</td>\n",
              "      <td>47</td>\n",
              "      <td>5.0</td>\n",
              "      <td>964983815</td>\n",
              "    </tr>\n",
              "    <tr>\n",
              "      <th>4</th>\n",
              "      <td>1</td>\n",
              "      <td>50</td>\n",
              "      <td>5.0</td>\n",
              "      <td>964982931</td>\n",
              "    </tr>\n",
              "  </tbody>\n",
              "</table>\n",
              "</div>\n",
              "    <div class=\"colab-df-buttons\">\n",
              "\n",
              "  <div class=\"colab-df-container\">\n",
              "    <button class=\"colab-df-convert\" onclick=\"convertToInteractive('df-4b157186-9330-4f55-aad3-1d034a443230')\"\n",
              "            title=\"Convert this dataframe to an interactive table.\"\n",
              "            style=\"display:none;\">\n",
              "\n",
              "  <svg xmlns=\"http://www.w3.org/2000/svg\" height=\"24px\" viewBox=\"0 -960 960 960\">\n",
              "    <path d=\"M120-120v-720h720v720H120Zm60-500h600v-160H180v160Zm220 220h160v-160H400v160Zm0 220h160v-160H400v160ZM180-400h160v-160H180v160Zm440 0h160v-160H620v160ZM180-180h160v-160H180v160Zm440 0h160v-160H620v160Z\"/>\n",
              "  </svg>\n",
              "    </button>\n",
              "\n",
              "  <style>\n",
              "    .colab-df-container {\n",
              "      display:flex;\n",
              "      gap: 12px;\n",
              "    }\n",
              "\n",
              "    .colab-df-convert {\n",
              "      background-color: #E8F0FE;\n",
              "      border: none;\n",
              "      border-radius: 50%;\n",
              "      cursor: pointer;\n",
              "      display: none;\n",
              "      fill: #1967D2;\n",
              "      height: 32px;\n",
              "      padding: 0 0 0 0;\n",
              "      width: 32px;\n",
              "    }\n",
              "\n",
              "    .colab-df-convert:hover {\n",
              "      background-color: #E2EBFA;\n",
              "      box-shadow: 0px 1px 2px rgba(60, 64, 67, 0.3), 0px 1px 3px 1px rgba(60, 64, 67, 0.15);\n",
              "      fill: #174EA6;\n",
              "    }\n",
              "\n",
              "    .colab-df-buttons div {\n",
              "      margin-bottom: 4px;\n",
              "    }\n",
              "\n",
              "    [theme=dark] .colab-df-convert {\n",
              "      background-color: #3B4455;\n",
              "      fill: #D2E3FC;\n",
              "    }\n",
              "\n",
              "    [theme=dark] .colab-df-convert:hover {\n",
              "      background-color: #434B5C;\n",
              "      box-shadow: 0px 1px 3px 1px rgba(0, 0, 0, 0.15);\n",
              "      filter: drop-shadow(0px 1px 2px rgba(0, 0, 0, 0.3));\n",
              "      fill: #FFFFFF;\n",
              "    }\n",
              "  </style>\n",
              "\n",
              "    <script>\n",
              "      const buttonEl =\n",
              "        document.querySelector('#df-4b157186-9330-4f55-aad3-1d034a443230 button.colab-df-convert');\n",
              "      buttonEl.style.display =\n",
              "        google.colab.kernel.accessAllowed ? 'block' : 'none';\n",
              "\n",
              "      async function convertToInteractive(key) {\n",
              "        const element = document.querySelector('#df-4b157186-9330-4f55-aad3-1d034a443230');\n",
              "        const dataTable =\n",
              "          await google.colab.kernel.invokeFunction('convertToInteractive',\n",
              "                                                    [key], {});\n",
              "        if (!dataTable) return;\n",
              "\n",
              "        const docLinkHtml = 'Like what you see? Visit the ' +\n",
              "          '<a target=\"_blank\" href=https://colab.research.google.com/notebooks/data_table.ipynb>data table notebook</a>'\n",
              "          + ' to learn more about interactive tables.';\n",
              "        element.innerHTML = '';\n",
              "        dataTable['output_type'] = 'display_data';\n",
              "        await google.colab.output.renderOutput(dataTable, element);\n",
              "        const docLink = document.createElement('div');\n",
              "        docLink.innerHTML = docLinkHtml;\n",
              "        element.appendChild(docLink);\n",
              "      }\n",
              "    </script>\n",
              "  </div>\n",
              "\n",
              "\n",
              "<div id=\"df-e2e87723-be81-4d8a-8887-3710ce406a8f\">\n",
              "  <button class=\"colab-df-quickchart\" onclick=\"quickchart('df-e2e87723-be81-4d8a-8887-3710ce406a8f')\"\n",
              "            title=\"Suggest charts\"\n",
              "            style=\"display:none;\">\n",
              "\n",
              "<svg xmlns=\"http://www.w3.org/2000/svg\" height=\"24px\"viewBox=\"0 0 24 24\"\n",
              "     width=\"24px\">\n",
              "    <g>\n",
              "        <path d=\"M19 3H5c-1.1 0-2 .9-2 2v14c0 1.1.9 2 2 2h14c1.1 0 2-.9 2-2V5c0-1.1-.9-2-2-2zM9 17H7v-7h2v7zm4 0h-2V7h2v10zm4 0h-2v-4h2v4z\"/>\n",
              "    </g>\n",
              "</svg>\n",
              "  </button>\n",
              "\n",
              "<style>\n",
              "  .colab-df-quickchart {\n",
              "      --bg-color: #E8F0FE;\n",
              "      --fill-color: #1967D2;\n",
              "      --hover-bg-color: #E2EBFA;\n",
              "      --hover-fill-color: #174EA6;\n",
              "      --disabled-fill-color: #AAA;\n",
              "      --disabled-bg-color: #DDD;\n",
              "  }\n",
              "\n",
              "  [theme=dark] .colab-df-quickchart {\n",
              "      --bg-color: #3B4455;\n",
              "      --fill-color: #D2E3FC;\n",
              "      --hover-bg-color: #434B5C;\n",
              "      --hover-fill-color: #FFFFFF;\n",
              "      --disabled-bg-color: #3B4455;\n",
              "      --disabled-fill-color: #666;\n",
              "  }\n",
              "\n",
              "  .colab-df-quickchart {\n",
              "    background-color: var(--bg-color);\n",
              "    border: none;\n",
              "    border-radius: 50%;\n",
              "    cursor: pointer;\n",
              "    display: none;\n",
              "    fill: var(--fill-color);\n",
              "    height: 32px;\n",
              "    padding: 0;\n",
              "    width: 32px;\n",
              "  }\n",
              "\n",
              "  .colab-df-quickchart:hover {\n",
              "    background-color: var(--hover-bg-color);\n",
              "    box-shadow: 0 1px 2px rgba(60, 64, 67, 0.3), 0 1px 3px 1px rgba(60, 64, 67, 0.15);\n",
              "    fill: var(--button-hover-fill-color);\n",
              "  }\n",
              "\n",
              "  .colab-df-quickchart-complete:disabled,\n",
              "  .colab-df-quickchart-complete:disabled:hover {\n",
              "    background-color: var(--disabled-bg-color);\n",
              "    fill: var(--disabled-fill-color);\n",
              "    box-shadow: none;\n",
              "  }\n",
              "\n",
              "  .colab-df-spinner {\n",
              "    border: 2px solid var(--fill-color);\n",
              "    border-color: transparent;\n",
              "    border-bottom-color: var(--fill-color);\n",
              "    animation:\n",
              "      spin 1s steps(1) infinite;\n",
              "  }\n",
              "\n",
              "  @keyframes spin {\n",
              "    0% {\n",
              "      border-color: transparent;\n",
              "      border-bottom-color: var(--fill-color);\n",
              "      border-left-color: var(--fill-color);\n",
              "    }\n",
              "    20% {\n",
              "      border-color: transparent;\n",
              "      border-left-color: var(--fill-color);\n",
              "      border-top-color: var(--fill-color);\n",
              "    }\n",
              "    30% {\n",
              "      border-color: transparent;\n",
              "      border-left-color: var(--fill-color);\n",
              "      border-top-color: var(--fill-color);\n",
              "      border-right-color: var(--fill-color);\n",
              "    }\n",
              "    40% {\n",
              "      border-color: transparent;\n",
              "      border-right-color: var(--fill-color);\n",
              "      border-top-color: var(--fill-color);\n",
              "    }\n",
              "    60% {\n",
              "      border-color: transparent;\n",
              "      border-right-color: var(--fill-color);\n",
              "    }\n",
              "    80% {\n",
              "      border-color: transparent;\n",
              "      border-right-color: var(--fill-color);\n",
              "      border-bottom-color: var(--fill-color);\n",
              "    }\n",
              "    90% {\n",
              "      border-color: transparent;\n",
              "      border-bottom-color: var(--fill-color);\n",
              "    }\n",
              "  }\n",
              "</style>\n",
              "\n",
              "  <script>\n",
              "    async function quickchart(key) {\n",
              "      const quickchartButtonEl =\n",
              "        document.querySelector('#' + key + ' button');\n",
              "      quickchartButtonEl.disabled = true;  // To prevent multiple clicks.\n",
              "      quickchartButtonEl.classList.add('colab-df-spinner');\n",
              "      try {\n",
              "        const charts = await google.colab.kernel.invokeFunction(\n",
              "            'suggestCharts', [key], {});\n",
              "      } catch (error) {\n",
              "        console.error('Error during call to suggestCharts:', error);\n",
              "      }\n",
              "      quickchartButtonEl.classList.remove('colab-df-spinner');\n",
              "      quickchartButtonEl.classList.add('colab-df-quickchart-complete');\n",
              "    }\n",
              "    (() => {\n",
              "      let quickchartButtonEl =\n",
              "        document.querySelector('#df-e2e87723-be81-4d8a-8887-3710ce406a8f button');\n",
              "      quickchartButtonEl.style.display =\n",
              "        google.colab.kernel.accessAllowed ? 'block' : 'none';\n",
              "    })();\n",
              "  </script>\n",
              "</div>\n",
              "    </div>\n",
              "  </div>\n"
            ],
            "application/vnd.google.colaboratory.intrinsic+json": {
              "type": "dataframe",
              "variable_name": "ratings"
            }
          },
          "metadata": {},
          "execution_count": 5
        }
      ]
    },
    {
      "cell_type": "code",
      "source": [
        "movies.head()"
      ],
      "metadata": {
        "colab": {
          "base_uri": "https://localhost:8080/",
          "height": 206
        },
        "id": "1YnrpoldvXdB",
        "outputId": "7fea63ec-78f5-40db-dd0b-c31c323c7959"
      },
      "execution_count": 6,
      "outputs": [
        {
          "output_type": "execute_result",
          "data": {
            "text/plain": [
              "   movieId                               title  \\\n",
              "0        1                    Toy Story (1995)   \n",
              "1        2                      Jumanji (1995)   \n",
              "2        3             Grumpier Old Men (1995)   \n",
              "3        4            Waiting to Exhale (1995)   \n",
              "4        5  Father of the Bride Part II (1995)   \n",
              "\n",
              "                                        genres  \n",
              "0  Adventure|Animation|Children|Comedy|Fantasy  \n",
              "1                   Adventure|Children|Fantasy  \n",
              "2                               Comedy|Romance  \n",
              "3                         Comedy|Drama|Romance  \n",
              "4                                       Comedy  "
            ],
            "text/html": [
              "\n",
              "  <div id=\"df-b97138c9-f5aa-43d0-ad0e-dca83a30aff5\" class=\"colab-df-container\">\n",
              "    <div>\n",
              "<style scoped>\n",
              "    .dataframe tbody tr th:only-of-type {\n",
              "        vertical-align: middle;\n",
              "    }\n",
              "\n",
              "    .dataframe tbody tr th {\n",
              "        vertical-align: top;\n",
              "    }\n",
              "\n",
              "    .dataframe thead th {\n",
              "        text-align: right;\n",
              "    }\n",
              "</style>\n",
              "<table border=\"1\" class=\"dataframe\">\n",
              "  <thead>\n",
              "    <tr style=\"text-align: right;\">\n",
              "      <th></th>\n",
              "      <th>movieId</th>\n",
              "      <th>title</th>\n",
              "      <th>genres</th>\n",
              "    </tr>\n",
              "  </thead>\n",
              "  <tbody>\n",
              "    <tr>\n",
              "      <th>0</th>\n",
              "      <td>1</td>\n",
              "      <td>Toy Story (1995)</td>\n",
              "      <td>Adventure|Animation|Children|Comedy|Fantasy</td>\n",
              "    </tr>\n",
              "    <tr>\n",
              "      <th>1</th>\n",
              "      <td>2</td>\n",
              "      <td>Jumanji (1995)</td>\n",
              "      <td>Adventure|Children|Fantasy</td>\n",
              "    </tr>\n",
              "    <tr>\n",
              "      <th>2</th>\n",
              "      <td>3</td>\n",
              "      <td>Grumpier Old Men (1995)</td>\n",
              "      <td>Comedy|Romance</td>\n",
              "    </tr>\n",
              "    <tr>\n",
              "      <th>3</th>\n",
              "      <td>4</td>\n",
              "      <td>Waiting to Exhale (1995)</td>\n",
              "      <td>Comedy|Drama|Romance</td>\n",
              "    </tr>\n",
              "    <tr>\n",
              "      <th>4</th>\n",
              "      <td>5</td>\n",
              "      <td>Father of the Bride Part II (1995)</td>\n",
              "      <td>Comedy</td>\n",
              "    </tr>\n",
              "  </tbody>\n",
              "</table>\n",
              "</div>\n",
              "    <div class=\"colab-df-buttons\">\n",
              "\n",
              "  <div class=\"colab-df-container\">\n",
              "    <button class=\"colab-df-convert\" onclick=\"convertToInteractive('df-b97138c9-f5aa-43d0-ad0e-dca83a30aff5')\"\n",
              "            title=\"Convert this dataframe to an interactive table.\"\n",
              "            style=\"display:none;\">\n",
              "\n",
              "  <svg xmlns=\"http://www.w3.org/2000/svg\" height=\"24px\" viewBox=\"0 -960 960 960\">\n",
              "    <path d=\"M120-120v-720h720v720H120Zm60-500h600v-160H180v160Zm220 220h160v-160H400v160Zm0 220h160v-160H400v160ZM180-400h160v-160H180v160Zm440 0h160v-160H620v160ZM180-180h160v-160H180v160Zm440 0h160v-160H620v160Z\"/>\n",
              "  </svg>\n",
              "    </button>\n",
              "\n",
              "  <style>\n",
              "    .colab-df-container {\n",
              "      display:flex;\n",
              "      gap: 12px;\n",
              "    }\n",
              "\n",
              "    .colab-df-convert {\n",
              "      background-color: #E8F0FE;\n",
              "      border: none;\n",
              "      border-radius: 50%;\n",
              "      cursor: pointer;\n",
              "      display: none;\n",
              "      fill: #1967D2;\n",
              "      height: 32px;\n",
              "      padding: 0 0 0 0;\n",
              "      width: 32px;\n",
              "    }\n",
              "\n",
              "    .colab-df-convert:hover {\n",
              "      background-color: #E2EBFA;\n",
              "      box-shadow: 0px 1px 2px rgba(60, 64, 67, 0.3), 0px 1px 3px 1px rgba(60, 64, 67, 0.15);\n",
              "      fill: #174EA6;\n",
              "    }\n",
              "\n",
              "    .colab-df-buttons div {\n",
              "      margin-bottom: 4px;\n",
              "    }\n",
              "\n",
              "    [theme=dark] .colab-df-convert {\n",
              "      background-color: #3B4455;\n",
              "      fill: #D2E3FC;\n",
              "    }\n",
              "\n",
              "    [theme=dark] .colab-df-convert:hover {\n",
              "      background-color: #434B5C;\n",
              "      box-shadow: 0px 1px 3px 1px rgba(0, 0, 0, 0.15);\n",
              "      filter: drop-shadow(0px 1px 2px rgba(0, 0, 0, 0.3));\n",
              "      fill: #FFFFFF;\n",
              "    }\n",
              "  </style>\n",
              "\n",
              "    <script>\n",
              "      const buttonEl =\n",
              "        document.querySelector('#df-b97138c9-f5aa-43d0-ad0e-dca83a30aff5 button.colab-df-convert');\n",
              "      buttonEl.style.display =\n",
              "        google.colab.kernel.accessAllowed ? 'block' : 'none';\n",
              "\n",
              "      async function convertToInteractive(key) {\n",
              "        const element = document.querySelector('#df-b97138c9-f5aa-43d0-ad0e-dca83a30aff5');\n",
              "        const dataTable =\n",
              "          await google.colab.kernel.invokeFunction('convertToInteractive',\n",
              "                                                    [key], {});\n",
              "        if (!dataTable) return;\n",
              "\n",
              "        const docLinkHtml = 'Like what you see? Visit the ' +\n",
              "          '<a target=\"_blank\" href=https://colab.research.google.com/notebooks/data_table.ipynb>data table notebook</a>'\n",
              "          + ' to learn more about interactive tables.';\n",
              "        element.innerHTML = '';\n",
              "        dataTable['output_type'] = 'display_data';\n",
              "        await google.colab.output.renderOutput(dataTable, element);\n",
              "        const docLink = document.createElement('div');\n",
              "        docLink.innerHTML = docLinkHtml;\n",
              "        element.appendChild(docLink);\n",
              "      }\n",
              "    </script>\n",
              "  </div>\n",
              "\n",
              "\n",
              "<div id=\"df-577808d9-4770-4683-8d26-005b46f4af62\">\n",
              "  <button class=\"colab-df-quickchart\" onclick=\"quickchart('df-577808d9-4770-4683-8d26-005b46f4af62')\"\n",
              "            title=\"Suggest charts\"\n",
              "            style=\"display:none;\">\n",
              "\n",
              "<svg xmlns=\"http://www.w3.org/2000/svg\" height=\"24px\"viewBox=\"0 0 24 24\"\n",
              "     width=\"24px\">\n",
              "    <g>\n",
              "        <path d=\"M19 3H5c-1.1 0-2 .9-2 2v14c0 1.1.9 2 2 2h14c1.1 0 2-.9 2-2V5c0-1.1-.9-2-2-2zM9 17H7v-7h2v7zm4 0h-2V7h2v10zm4 0h-2v-4h2v4z\"/>\n",
              "    </g>\n",
              "</svg>\n",
              "  </button>\n",
              "\n",
              "<style>\n",
              "  .colab-df-quickchart {\n",
              "      --bg-color: #E8F0FE;\n",
              "      --fill-color: #1967D2;\n",
              "      --hover-bg-color: #E2EBFA;\n",
              "      --hover-fill-color: #174EA6;\n",
              "      --disabled-fill-color: #AAA;\n",
              "      --disabled-bg-color: #DDD;\n",
              "  }\n",
              "\n",
              "  [theme=dark] .colab-df-quickchart {\n",
              "      --bg-color: #3B4455;\n",
              "      --fill-color: #D2E3FC;\n",
              "      --hover-bg-color: #434B5C;\n",
              "      --hover-fill-color: #FFFFFF;\n",
              "      --disabled-bg-color: #3B4455;\n",
              "      --disabled-fill-color: #666;\n",
              "  }\n",
              "\n",
              "  .colab-df-quickchart {\n",
              "    background-color: var(--bg-color);\n",
              "    border: none;\n",
              "    border-radius: 50%;\n",
              "    cursor: pointer;\n",
              "    display: none;\n",
              "    fill: var(--fill-color);\n",
              "    height: 32px;\n",
              "    padding: 0;\n",
              "    width: 32px;\n",
              "  }\n",
              "\n",
              "  .colab-df-quickchart:hover {\n",
              "    background-color: var(--hover-bg-color);\n",
              "    box-shadow: 0 1px 2px rgba(60, 64, 67, 0.3), 0 1px 3px 1px rgba(60, 64, 67, 0.15);\n",
              "    fill: var(--button-hover-fill-color);\n",
              "  }\n",
              "\n",
              "  .colab-df-quickchart-complete:disabled,\n",
              "  .colab-df-quickchart-complete:disabled:hover {\n",
              "    background-color: var(--disabled-bg-color);\n",
              "    fill: var(--disabled-fill-color);\n",
              "    box-shadow: none;\n",
              "  }\n",
              "\n",
              "  .colab-df-spinner {\n",
              "    border: 2px solid var(--fill-color);\n",
              "    border-color: transparent;\n",
              "    border-bottom-color: var(--fill-color);\n",
              "    animation:\n",
              "      spin 1s steps(1) infinite;\n",
              "  }\n",
              "\n",
              "  @keyframes spin {\n",
              "    0% {\n",
              "      border-color: transparent;\n",
              "      border-bottom-color: var(--fill-color);\n",
              "      border-left-color: var(--fill-color);\n",
              "    }\n",
              "    20% {\n",
              "      border-color: transparent;\n",
              "      border-left-color: var(--fill-color);\n",
              "      border-top-color: var(--fill-color);\n",
              "    }\n",
              "    30% {\n",
              "      border-color: transparent;\n",
              "      border-left-color: var(--fill-color);\n",
              "      border-top-color: var(--fill-color);\n",
              "      border-right-color: var(--fill-color);\n",
              "    }\n",
              "    40% {\n",
              "      border-color: transparent;\n",
              "      border-right-color: var(--fill-color);\n",
              "      border-top-color: var(--fill-color);\n",
              "    }\n",
              "    60% {\n",
              "      border-color: transparent;\n",
              "      border-right-color: var(--fill-color);\n",
              "    }\n",
              "    80% {\n",
              "      border-color: transparent;\n",
              "      border-right-color: var(--fill-color);\n",
              "      border-bottom-color: var(--fill-color);\n",
              "    }\n",
              "    90% {\n",
              "      border-color: transparent;\n",
              "      border-bottom-color: var(--fill-color);\n",
              "    }\n",
              "  }\n",
              "</style>\n",
              "\n",
              "  <script>\n",
              "    async function quickchart(key) {\n",
              "      const quickchartButtonEl =\n",
              "        document.querySelector('#' + key + ' button');\n",
              "      quickchartButtonEl.disabled = true;  // To prevent multiple clicks.\n",
              "      quickchartButtonEl.classList.add('colab-df-spinner');\n",
              "      try {\n",
              "        const charts = await google.colab.kernel.invokeFunction(\n",
              "            'suggestCharts', [key], {});\n",
              "      } catch (error) {\n",
              "        console.error('Error during call to suggestCharts:', error);\n",
              "      }\n",
              "      quickchartButtonEl.classList.remove('colab-df-spinner');\n",
              "      quickchartButtonEl.classList.add('colab-df-quickchart-complete');\n",
              "    }\n",
              "    (() => {\n",
              "      let quickchartButtonEl =\n",
              "        document.querySelector('#df-577808d9-4770-4683-8d26-005b46f4af62 button');\n",
              "      quickchartButtonEl.style.display =\n",
              "        google.colab.kernel.accessAllowed ? 'block' : 'none';\n",
              "    })();\n",
              "  </script>\n",
              "</div>\n",
              "    </div>\n",
              "  </div>\n"
            ],
            "application/vnd.google.colaboratory.intrinsic+json": {
              "type": "dataframe",
              "variable_name": "movies",
              "summary": "{\n  \"name\": \"movies\",\n  \"rows\": 9742,\n  \"fields\": [\n    {\n      \"column\": \"movieId\",\n      \"properties\": {\n        \"dtype\": \"number\",\n        \"std\": 52160,\n        \"min\": 1,\n        \"max\": 193609,\n        \"num_unique_values\": 9742,\n        \"samples\": [\n          45635,\n          1373,\n          7325\n        ],\n        \"semantic_type\": \"\",\n        \"description\": \"\"\n      }\n    },\n    {\n      \"column\": \"title\",\n      \"properties\": {\n        \"dtype\": \"string\",\n        \"num_unique_values\": 9737,\n        \"samples\": [\n          \"Teenage Mutant Ninja Turtles (2014)\",\n          \"America's Sweethearts (2001)\",\n          \"Cast Away (2000)\"\n        ],\n        \"semantic_type\": \"\",\n        \"description\": \"\"\n      }\n    },\n    {\n      \"column\": \"genres\",\n      \"properties\": {\n        \"dtype\": \"category\",\n        \"num_unique_values\": 951,\n        \"samples\": [\n          \"Crime|Mystery|Romance|Thriller\",\n          \"Action|Adventure|Comedy|Western\",\n          \"Crime|Drama|Musical\"\n        ],\n        \"semantic_type\": \"\",\n        \"description\": \"\"\n      }\n    }\n  ]\n}"
            }
          },
          "metadata": {},
          "execution_count": 6
        }
      ]
    },
    {
      "cell_type": "markdown",
      "source": [
        "1. Przegląd danych\n"
      ],
      "metadata": {
        "id": "lak3tvv_t543"
      }
    },
    {
      "cell_type": "markdown",
      "source": [
        "Podaj liczbę filmów dla dzieci\n"
      ],
      "metadata": {
        "id": "PNCjYY89uZBN"
      }
    },
    {
      "cell_type": "code",
      "source": [
        "dla_dzieci = movies['genres'].str.contains('Children', case=False).sum()\n",
        "\n",
        "print(\"Liczba filmów dla dzieci:\", dla_dzieci)\n"
      ],
      "metadata": {
        "colab": {
          "base_uri": "https://localhost:8080/"
        },
        "id": "V0n0M18quaIp",
        "outputId": "c3a55670-4424-47d3-c938-284fd7db5a25"
      },
      "execution_count": 9,
      "outputs": [
        {
          "output_type": "stream",
          "name": "stdout",
          "text": [
            "Liczba filmów dla dzieci: 664\n"
          ]
        }
      ]
    },
    {
      "cell_type": "markdown",
      "source": [
        "Pokaż rozkład ocen filmów z 1995"
      ],
      "metadata": {
        "id": "_JqBVJKWub32"
      }
    },
    {
      "cell_type": "code",
      "source": [
        "merged_data = pd.merge(ratings, movies, on='movieId', how='inner')\n",
        "\n",
        "movies_1995 = merged_data[merged_data['title'].str.contains(r'\\(1995\\)', regex=True)]\n",
        "\n",
        "rating_distribution_1995 = movies_1995['rating'].value_counts().sort_index()\n",
        "\n",
        "plt.bar(rating_distribution_1995.index, rating_distribution_1995.values, color='blue')\n",
        "plt.title('Rozkład ocen filmów z 1995 roku')\n",
        "plt.xlabel('Ocena')\n",
        "plt.ylabel('Liczba ocen')\n",
        "plt.show()"
      ],
      "metadata": {
        "colab": {
          "base_uri": "https://localhost:8080/",
          "height": 472
        },
        "id": "PaqRHj4Q0L5H",
        "outputId": "736591c4-bd66-491d-a148-72c2a162a42a"
      },
      "execution_count": 10,
      "outputs": [
        {
          "output_type": "display_data",
          "data": {
            "text/plain": [
              "<Figure size 640x480 with 1 Axes>"
            ],
            "image/png": "[encoded data removed]"
          },
          "metadata": {}
        }
      ]
    },
    {
      "cell_type": "markdown",
      "source": [
        "Podaj średnią ocen wszystkich filmów akcji oraz 3 filmy najwyżej oceniane"
      ],
      "metadata": {
        "id": "9if-JxEJudSH"
      }
    },
    {
      "cell_type": "code",
      "source": [
        "filmy_akcji = movies[movies['genres'].str.contains(\"Action\")]\n",
        "\n",
        "srednia_ocena = ratings[ratings['movieId'].isin(filmy_akcji['movieId'])][\"rating\"].mean()\n",
        "\n",
        "srednia_ocena_str = f\"{srednia_ocena:.1f}\"\n",
        "\n",
        "print(f\"Średnia ocena wszystkich filmów akcji: {srednia_ocena_str}\")"
      ],
      "metadata": {
        "colab": {
          "base_uri": "https://localhost:8080/"
        },
        "id": "KC4sxxNhwgrg",
        "outputId": "1a83a6c9-67de-4523-f330-407314038acb"
      },
      "execution_count": 16,
      "outputs": [
        {
          "output_type": "stream",
          "name": "stdout",
          "text": [
            "Średnia ocena wszystkich filmów akcji: 3.4\n"
          ]
        }
      ]
    },
    {
      "cell_type": "code",
      "source": [
        "top_3 = ratings[ratings['movieId'].isin(filmy_akcji['movieId'])].sort_values(by='rating', ascending=False).head(3)\n",
        "\n",
        "top_3 = top_3.merge(filmy_akcji[['movieId', 'title']], how='inner', on='movieId')\n",
        "\n",
        "print(f\"3 najwyżej oceniane filmy akcji:\")\n",
        "for i, row in top_3.iterrows():\n",
        "    print(f\"{i+1}. {row['title']} (rating: {row['rating']:.1f})\")"
      ],
      "metadata": {
        "colab": {
          "base_uri": "https://localhost:8080/"
        },
        "id": "U9fPEfRpI6lk",
        "outputId": "c6b19279-90d9-4f1d-f9ba-953e30900b55"
      },
      "execution_count": 19,
      "outputs": [
        {
          "output_type": "stream",
          "name": "stdout",
          "text": [
            "3 najwyżej oceniane filmy akcji:\n",
            "1. Thing, The (1982) (rating: 5.0)\n",
            "2. Star Wars: Episode VI - Return of the Jedi (1983) (rating: 5.0)\n",
            "3. Star Wars: Episode VI - Return of the Jedi (1983) (rating: 5.0)\n"
          ]
        }
      ]
    },
    {
      "cell_type": "markdown",
      "source": [
        "2. System rekomendacyjny\n",
        "\n"
      ],
      "metadata": {
        "id": "S1Li5Zxt1HQZ"
      }
    },
    {
      "cell_type": "markdown",
      "source": [
        "Przegląd i przygotowanie danych"
      ],
      "metadata": {
        "id": "hRhoGC5cT8B0"
      }
    },
    {
      "cell_type": "code",
      "source": [
        "ilosc_ocen_uzytkownika = ratings.groupby('userId')['rating'].count()\n",
        "\n",
        "plt.figure(figsize=(10, 6))\n",
        "plt.plot(ilosc_ocen_uzytkownika.index, ilosc_ocen_uzytkownika.values)\n",
        "plt.xlabel('ID użytkownika')\n",
        "plt.ylabel('Liczba ocen')\n",
        "plt.title('Liczba ocen użytkowników w pliku ratings')\n",
        "plt.show()"
      ],
      "metadata": {
        "colab": {
          "base_uri": "https://localhost:8080/",
          "height": 565
        },
        "id": "H1nolKH6K5Ah",
        "outputId": "2e79bdca-86d4-4122-af25-0c937805a3a6"
      },
      "execution_count": 27,
      "outputs": [
        {
          "output_type": "display_data",
          "data": {
            "text/plain": [
              "<Figure size 1000x600 with 1 Axes>"
            ],
            "image/png": "[encoded data removed]"
          },
          "metadata": {}
        }
      ]
    },
    {
      "cell_type": "code",
      "source": [
        "ilosc_ocen_filmow = ratings.groupby('movieId')['rating'].count()\n",
        "\n",
        "plt.figure(figsize=(10, 6))\n",
        "plt.plot(ilosc_ocen_filmow.index, ilosc_ocen_filmow.values)\n",
        "plt.xlabel('ID Filmu')\n",
        "plt.ylabel('Liczba ocen')\n",
        "plt.title('Liczba ocen filmów w pliku ratings')\n",
        "plt.show()"
      ],
      "metadata": {
        "colab": {
          "base_uri": "https://localhost:8080/",
          "height": 565
        },
        "id": "ks8xt0ALK-TN",
        "outputId": "9171596a-880d-4fa3-cae9-4be704d85c2e"
      },
      "execution_count": 29,
      "outputs": [
        {
          "output_type": "display_data",
          "data": {
            "text/plain": [
              "<Figure size 1000x600 with 1 Axes>"
            ],
            "image/png": "[encoded data removed]"
          },
          "metadata": {}
        }
      ]
    },
    {
      "cell_type": "markdown",
      "source": [
        "Widać dużą dysproporcje w ilościach ocen, które otrzymały filmy oraz ilościach opinii wystawionych przez konrektnych użytkowników. W związku z tym ograniczam zbiór danych"
      ],
      "metadata": {
        "id": "FBUPkeVoUZnG"
      }
    },
    {
      "cell_type": "code",
      "source": [
        "MIN_USER_RATINGS = 500\n",
        "MIN_MOVIE_RATINGS = 50\n",
        "nowi_uzytkownicy = ilosc_ocen_uzytkownika[ilosc_ocen_uzytkownika >= MIN_USER_RATINGS].index\n",
        "\n",
        "nowe_filmy = ilosc_ocen_filmow[ilosc_ocen_filmow >= MIN_MOVIE_RATINGS].index\n",
        "\n",
        "filtered_ratings = ratings[ratings['userId'].isin(nowi_uzytkownicy) & ratings['movieId'].isin(nowe_filmy)]\n",
        "\n",
        "filtered_movies = movies[movies['movieId'].isin(nowe_filmy)]\n",
        "\n",
        "# Filter ratings for frequent users and movies\n",
        "filtered_ratings = ratings[ratings['userId'].isin(nowi_uzytkownicy) & ratings['movieId'].isin(nowe_filmy)]\n",
        "\n",
        "# Merge ratings with movies to get movie titles and genres\n",
        "ratings_merge = filtered_ratings.merge(movies[['movieId', 'title', 'genres']], how='left', on='movieId')\n",
        "\n",
        "\n",
        "print(\"Number of users after filtering:\", len(nowi_uzytkownicy))\n",
        "print(\"Number of movies after filtering:\", len(filtered_movies))\n",
        "print(\"Number of ratings after filtering:\", len(filtered_ratings))"
      ],
      "metadata": {
        "colab": {
          "base_uri": "https://localhost:8080/"
        },
        "id": "DEgGLRuiKyXO",
        "outputId": "d8bbe8e0-8c8b-49fd-dabe-17400aefd9eb"
      },
      "execution_count": 51,
      "outputs": [
        {
          "output_type": "stream",
          "name": "stdout",
          "text": [
            "Number of users after filtering: 44\n",
            "Number of movies after filtering: 450\n",
            "Number of ratings after filtering: 11102\n"
          ]
        }
      ]
    },
    {
      "cell_type": "code",
      "source": [
        "reader = Reader(rating_scale=(1, 5))\n",
        "data   = Dataset.load_from_df(ratings_merge[['userId','title','rating']], reader)\n",
        "\n",
        "raw_ratings = data.raw_ratings\n",
        "import random\n",
        "random.shuffle(raw_ratings)\n",
        "\n",
        "threshold   = int(len(raw_ratings)*0.8)\n",
        "\n",
        "train_raw_ratings = raw_ratings[:threshold]\n",
        "test_raw_ratings  = raw_ratings[threshold:]\n",
        "\n",
        "data.raw_ratings = train_raw_ratings\n",
        "trainset         = data.build_full_trainset()\n",
        "testset          = data.construct_testset(test_raw_ratings)"
      ],
      "metadata": {
        "id": "drKaSZolKqD4"
      },
      "execution_count": 52,
      "outputs": []
    },
    {
      "cell_type": "markdown",
      "source": [
        "Algorytm SVD"
      ],
      "metadata": {
        "id": "h_2nE4pH1IDr"
      }
    },
    {
      "cell_type": "code",
      "source": [
        "\n",
        "\n",
        "param_grid = {\"n_factors\": range(10,100,20),\n",
        "              \"n_epochs\" : [5, 10, 20],\n",
        "              \"lr_all\"   : [0.002, 0.005],\n",
        "              \"reg_all\"  : [0.2, 0.5]}\n",
        "\n",
        "gridsearchSVD = GridSearchCV(SVD, param_grid, measures=['mae', 'rmse'], cv=5, n_jobs=-1)\n",
        "\n",
        "gridsearchSVD.fit(data)\n",
        "\n",
        "print(f'MAE Best Parameters:  {gridsearchSVD.best_params[\"mae\"]}')\n",
        "print(f'MAE Best Score:       {gridsearchSVD.best_score[\"mae\"]}\\n')\n",
        "\n",
        "print(f'RMSE Best Parameters: {gridsearchSVD.best_params[\"rmse\"]}')\n",
        "print(f'RMSE Best Score:      {gridsearchSVD.best_score[\"rmse\"]}\\n')"
      ],
      "metadata": {
        "id": "feMV5prVGzm_",
        "colab": {
          "base_uri": "https://localhost:8080/"
        },
        "outputId": "9a3795c2-b8f7-427a-8f5d-56d6d1ec1e7b"
      },
      "execution_count": 32,
      "outputs": [
        {
          "output_type": "stream",
          "name": "stdout",
          "text": [
            "MAE Best Parameters:  {'n_factors': 70, 'n_epochs': 20, 'lr_all': 0.005, 'reg_all': 0.2}\n",
            "MAE Best Score:       0.627314397993248\n",
            "\n",
            "RMSE Best Parameters: {'n_factors': 70, 'n_epochs': 20, 'lr_all': 0.005, 'reg_all': 0.2}\n",
            "RMSE Best Score:      0.8153099936075403\n",
            "\n"
          ]
        }
      ]
    },
    {
      "cell_type": "markdown",
      "source": [
        "Kros walidacja dla estymatoru MAE i RMSE\n",
        "\n",
        "\n"
      ],
      "metadata": {
        "id": "6VRUa7R1VesR"
      }
    },
    {
      "cell_type": "code",
      "source": [
        "svd_cv_results = cross_validate(gridsearchSVD.best_estimator['mae'], data, measures=['RMSE', 'MAE'], cv=5, verbose=True)"
      ],
      "metadata": {
        "colab": {
          "base_uri": "https://localhost:8080/"
        },
        "id": "4lt39zTHKR_w",
        "outputId": "81142e72-9cb1-4825-d280-f30b0187b215"
      },
      "execution_count": 46,
      "outputs": [
        {
          "output_type": "stream",
          "name": "stdout",
          "text": [
            "Evaluating RMSE, MAE of algorithm SVD on 5 split(s).\n",
            "\n",
            "                  Fold 1  Fold 2  Fold 3  Fold 4  Fold 5  Mean    Std     \n",
            "RMSE (testset)    0.7933  0.8210  0.8041  0.8302  0.8280  0.8153  0.0143  \n",
            "MAE (testset)     0.6149  0.6295  0.6206  0.6341  0.6354  0.6269  0.0079  \n",
            "Fit time          0.61    0.65    0.31    0.31    0.31    0.44    0.16    \n",
            "Test time         0.05    0.61    0.03    0.03    0.03    0.15    0.23    \n"
          ]
        }
      ]
    },
    {
      "cell_type": "code",
      "source": [
        "svd_cv_results = cross_validate(gridsearchSVD.best_estimator['rmse'], data, measures=['RMSE', 'MAE'], cv=5, verbose=True)"
      ],
      "metadata": {
        "colab": {
          "base_uri": "https://localhost:8080/"
        },
        "id": "o5iu_XSDTmue",
        "outputId": "0cd578c3-31e2-4424-aa4c-3af198032b2f"
      },
      "execution_count": 47,
      "outputs": [
        {
          "output_type": "stream",
          "name": "stdout",
          "text": [
            "Evaluating RMSE, MAE of algorithm SVD on 5 split(s).\n",
            "\n",
            "                  Fold 1  Fold 2  Fold 3  Fold 4  Fold 5  Mean    Std     \n",
            "RMSE (testset)    0.7964  0.8101  0.8192  0.8173  0.8296  0.8145  0.0110  \n",
            "MAE (testset)     0.6123  0.6239  0.6326  0.6309  0.6313  0.6262  0.0076  \n",
            "Fit time          0.69    0.42    0.38    0.46    0.37    0.46    0.12    \n",
            "Test time         0.05    0.06    0.05    0.05    0.05    0.05    0.00    \n"
          ]
        }
      ]
    },
    {
      "cell_type": "markdown",
      "source": [
        "kNNwithMeans z wykorzystaniem metody hiperparametryzacji GridSearch do wyb\n",
        "\n",
        "liczby sąsiadów od 3-10"
      ],
      "metadata": {
        "id": "sjxeSbBb1NaL"
      }
    },
    {
      "cell_type": "code",
      "source": [
        "param_grid = {\n",
        "    'sim_options': {\n",
        "        'name': ['msd', 'cosine'],\n",
        "        'min_support': [3, 10],\n",
        "        'user_based': [False, True]\n",
        "    },\n",
        "    'k': list(range(3, 11))\n",
        "}\n",
        "\n",
        "gridsearchKNNWithMeans = GridSearchCV(KNNWithMeans, param_grid, measures=['mae', 'rmse'], \\\n",
        "                                      cv=5, n_jobs=-1)\n",
        "\n",
        "gridsearchKNNWithMeans.fit(data)\n",
        "\n",
        "print(f'MAE Best Parameters:  {gridsearchKNNWithMeans.best_params[\"mae\"]}')\n",
        "print(f'MAE Best Score:       {gridsearchKNNWithMeans.best_score[\"mae\"]}\\n')\n",
        "\n",
        "print(f'RMSE Best Parameters: {gridsearchKNNWithMeans.best_params[\"rmse\"]}')\n"
      ],
      "metadata": {
        "colab": {
          "base_uri": "https://localhost:8080/"
        },
        "id": "-9lnaJ67M6Lh",
        "outputId": "4cec18b3-a302-420e-95be-7cb2d21e778f"
      },
      "execution_count": 36,
      "outputs": [
        {
          "output_type": "stream",
          "name": "stdout",
          "text": [
            "MAE Best Parameters:  {'sim_options': {'name': 'msd', 'min_support': 10, 'user_based': True}, 'k': 10}\n",
            "MAE Best Score:       0.6290891347731027\n",
            "\n",
            "RMSE Best Parameters: {'sim_options': {'name': 'cosine', 'min_support': 10, 'user_based': True}, 'k': 10}\n"
          ]
        }
      ]
    },
    {
      "cell_type": "code",
      "source": [
        "sim_options = {'name':'cosine','min_support':3,'user_based':False}\n",
        "final_model = KNNWithMeans(sim_options=sim_options)\n",
        "\n",
        "pred = final_model.fit(trainset).test(testset)\n",
        "\n",
        "print(f'\\nUnbiased Testing Performance:')\n",
        "print(f'MAE: {accuracy.mae(pred)}, RMSE: {accuracy.rmse(pred)}')"
      ],
      "metadata": {
        "colab": {
          "base_uri": "https://localhost:8080/"
        },
        "id": "HJ2o7beELyQK",
        "outputId": "28fd1524-ae98-4e7f-99a6-daeec64fe9df"
      },
      "execution_count": 37,
      "outputs": [
        {
          "output_type": "stream",
          "name": "stdout",
          "text": [
            "Computing the cosine similarity matrix...\n",
            "Done computing similarity matrix.\n",
            "\n",
            "Unbiased Testing Performance:\n",
            "MAE:  0.6263\n",
            "RMSE: 0.8108\n",
            "MAE: 0.6262676841015767, RMSE: 0.8107637465605374\n"
          ]
        }
      ]
    },
    {
      "cell_type": "markdown",
      "source": [
        "Kros walidacja dla estymatoru MAE i RMSE\n"
      ],
      "metadata": {
        "id": "x6Jjj3rtVxeS"
      }
    },
    {
      "cell_type": "code",
      "source": [
        "knn_cv_results = cross_validate(gridsearchKNNWithMeans.best_estimator['mae'], data, measures=['RMSE', 'MAE'], cv=5, verbose=True)"
      ],
      "metadata": {
        "colab": {
          "base_uri": "https://localhost:8080/"
        },
        "id": "UyDVS3BHTurT",
        "outputId": "ee2c58c8-e8e1-4a34-d356-eccdae9c2846"
      },
      "execution_count": 48,
      "outputs": [
        {
          "output_type": "stream",
          "name": "stdout",
          "text": [
            "Computing the msd similarity matrix...\n",
            "Done computing similarity matrix.\n",
            "Computing the msd similarity matrix...\n",
            "Done computing similarity matrix.\n",
            "Computing the msd similarity matrix...\n",
            "Done computing similarity matrix.\n",
            "Computing the msd similarity matrix...\n",
            "Done computing similarity matrix.\n",
            "Computing the msd similarity matrix...\n",
            "Done computing similarity matrix.\n",
            "Evaluating RMSE, MAE of algorithm KNNWithMeans on 5 split(s).\n",
            "\n",
            "                  Fold 1  Fold 2  Fold 3  Fold 4  Fold 5  Mean    Std     \n",
            "RMSE (testset)    0.8162  0.8172  0.8174  0.8189  0.8260  0.8191  0.0035  \n",
            "MAE (testset)     0.6292  0.6278  0.6295  0.6271  0.6313  0.6290  0.0015  \n",
            "Fit time          0.03    0.02    0.03    0.03    0.03    0.03    0.00    \n",
            "Test time         0.20    0.21    0.40    0.21    0.21    0.25    0.08    \n"
          ]
        }
      ]
    },
    {
      "cell_type": "code",
      "source": [
        "knn_cv_results = cross_validate(gridsearchKNNWithMeans.best_estimator['rmse'], data, measures=['RMSE', 'MAE'], cv=5, verbose=True)"
      ],
      "metadata": {
        "colab": {
          "base_uri": "https://localhost:8080/"
        },
        "id": "I1tR7rkiTxSE",
        "outputId": "151b35b5-73ac-4161-f67e-9aec4949708f"
      },
      "execution_count": 49,
      "outputs": [
        {
          "output_type": "stream",
          "name": "stdout",
          "text": [
            "Computing the cosine similarity matrix...\n",
            "Done computing similarity matrix.\n",
            "Computing the cosine similarity matrix...\n",
            "Done computing similarity matrix.\n",
            "Computing the cosine similarity matrix...\n",
            "Done computing similarity matrix.\n",
            "Computing the cosine similarity matrix...\n",
            "Done computing similarity matrix.\n",
            "Computing the cosine similarity matrix...\n",
            "Done computing similarity matrix.\n",
            "Evaluating RMSE, MAE of algorithm KNNWithMeans on 5 split(s).\n",
            "\n",
            "                  Fold 1  Fold 2  Fold 3  Fold 4  Fold 5  Mean    Std     \n",
            "RMSE (testset)    0.8138  0.8313  0.8166  0.8293  0.8006  0.8183  0.0112  \n",
            "MAE (testset)     0.6280  0.6406  0.6231  0.6396  0.6181  0.6299  0.0089  \n",
            "Fit time          0.02    0.03    0.02    0.02    0.03    0.03    0.00    \n",
            "Test time         0.22    0.20    0.21    0.20    0.22    0.21    0.01    \n"
          ]
        }
      ]
    },
    {
      "cell_type": "markdown",
      "source": [
        "Oba modele wyszły bardzo podobnie"
      ],
      "metadata": {
        "id": "w6jqwmQZWsLO"
      }
    },
    {
      "cell_type": "markdown",
      "source": [
        "Czym różni się algorytm kNN with means od standardowego kNN?\n"
      ],
      "metadata": {
        "id": "hDZOvy1e1P0n"
      }
    },
    {
      "cell_type": "markdown",
      "source": [
        "Algorytm kNNWithMeans różni się od standardowego kNN tym, że oprócz znajdowania sąsiadów na podstawie podobieństwa, również uwzględnia średnią ocen tych sąsiadów. Dzięki temu, jeśli dany użytkownik ma tendencję do oceniania filmów wyżej lub niżej niż inni, algorytm ten może uwzględnić to w swoich rekomendacjach."
      ],
      "metadata": {
        "id": "kqiQq9QGDXWA"
      }
    },
    {
      "cell_type": "markdown",
      "source": [
        "3. Podaj rekomendacje po obejrzeniu filmu: NeverEnding Story III oraz Pi"
      ],
      "metadata": {
        "id": "G-4xTRXqOIol"
      }
    },
    {
      "cell_type": "markdown",
      "source": [
        "Zaczynam od znaleziena ID filmu. Następnie szukam użytkowników, którzy ocenili dany film i znajduje inne film, które oni ocenili wysoko, ale takie, których \"ja\" nie oceniłam. Wybieram filmy z wysoką średnią ocen."
      ],
      "metadata": {
        "id": "X6wtcnC2WAOu"
      }
    },
    {
      "cell_type": "code",
      "source": [
        "neverending_story_3_id = movies[movies['title'].str.contains('NeverEnding Story III', case=False)]['movieId'].values\n",
        "if len(neverending_story_3_id) > 0:\n",
        "    neverending_story_3_id = neverending_story_3_id[0]\n",
        "\n",
        "    uzytkownicy_ns3 = ratings[ratings['movieId'] == neverending_story_3_id]['userId'].unique()\n",
        "\n",
        "    wysoko_ocenione_ns3 = ratings[(ratings['userId'].isin(uzytkownicy_ns3)) & (ratings['movieId'] != neverending_story_3_id)]\\\n",
        "                                .groupby('movieId')['rating'].mean()\\\n",
        "                                .sort_values(ascending=False)\\\n",
        "                                .reset_index()\n",
        "\n",
        "    rekomendowane_ns3 = movies[movies['movieId'].isin(wysoko_ocenione_ns3['movieId'][:10])]\\\n",
        "                              [['movieId', 'title', 'genres']]\n",
        "\n",
        "    print(\"Rekomendowane filmy po obejrzeniu 'NeverEnding Story III':\")\n",
        "    for i, film in rekomendowane_ns3.iterrows():\n",
        "        print(f\"{i+1}. {film['title']} ({film['genres']})\")\n",
        "else:\n",
        "    print(\"Nie można znaleźć ID dla filmu 'NeverEnding Story III'.\")\n",
        "\n"
      ],
      "metadata": {
        "colab": {
          "base_uri": "https://localhost:8080/"
        },
        "id": "0YDquEOBOJMY",
        "outputId": "8bb25a2a-ea1a-4053-e22b-06bd1eacbf0f"
      },
      "execution_count": 44,
      "outputs": [
        {
          "output_type": "stream",
          "name": "stdout",
          "text": [
            "Rekomendowane filmy po obejrzeniu 'NeverEnding Story III':\n",
            "695. Casablanca (1942) (Drama|Romance)\n",
            "712. Notorious (1946) (Film-Noir|Romance|Thriller)\n",
            "778. 20,000 Leagues Under the Sea (1954) (Adventure|Drama|Sci-Fi)\n",
            "800. Beautiful Thing (1996) (Drama|Romance)\n",
            "802. Ghost and the Darkness, The (1996) (Action|Adventure)\n",
            "810. William Shakespeare's Romeo + Juliet (1996) (Drama|Romance)\n",
            "818. Sleeper (1973) (Comedy|Sci-Fi)\n",
            "821. Monty Python's Life of Brian (1979) (Comedy)\n",
            "827. Dial M for Murder (1954) (Crime|Mystery|Thriller)\n",
            "983. High Noon (1952) (Drama|Western)\n"
          ]
        }
      ]
    },
    {
      "cell_type": "code",
      "source": [
        "\n",
        "pi_id = movies[movies['title'].str.contains('Pi', case=False)]['movieId'].values\n",
        "if len(pi_id) > 0:\n",
        "    pi_id = pi_id[0]\n",
        "\n",
        "    uzytkownicy_pi = ratings[ratings['movieId'] == pi_id]['userId'].unique()\n",
        "\n",
        "    wysoko_ocenione_pi = ratings[(ratings['userId'].isin(uzytkownicy_pi)) & (ratings['movieId'] != pi_id)]\\\n",
        "                                .groupby('movieId')['rating'].mean()\\\n",
        "                                .sort_values(ascending=False)\\\n",
        "                                .reset_index()\n",
        "\n",
        "    rekomendowane_pi = movies[movies['movieId'].isin(wysoko_ocenione_pi['movieId'][:10])]\\\n",
        "                              [['movieId', 'title', 'genres']]\n",
        "\n",
        "    print(\"\\nRekomendowane filmy po obejrzeniu 'Pi':\")\n",
        "    for i, film in rekomendowane_pi.iterrows():\n",
        "        print(f\"{i+1}. {film['title']} ({film['genres']})\")\n",
        "else:\n",
        "    print(\"Nie można znaleźć ID dla filmu 'Pi'.\")"
      ],
      "metadata": {
        "colab": {
          "base_uri": "https://localhost:8080/"
        },
        "id": "OJ6pfFDhRIQv",
        "outputId": "5bc534c3-f2d5-4b92-85d4-4ad79245a1f0"
      },
      "execution_count": 45,
      "outputs": [
        {
          "output_type": "stream",
          "name": "stdout",
          "text": [
            "\n",
            "Rekomendowane filmy po obejrzeniu 'Pi':\n",
            "252. Once Were Warriors (1994) (Crime|Drama)\n",
            "960. M (1931) (Crime|Film-Noir|Thriller)\n",
            "1648. Knock Off (1998) (Action)\n",
            "1754. Nights of Cabiria (Notti di Cabiria, Le) (1957) (Drama)\n",
            "2736. Benji the Hunted (1987) (Adventure|Children)\n",
            "2883. Affair of Love, An (Liaison pornographique, Une) (1999) (Drama|Romance)\n",
            "4010. Rules of Attraction, The (2002) (Comedy|Drama|Romance|Thriller)\n",
            "4047. Gallipoli (1981) (Drama|War)\n",
            "5083. Brigadoon (1954) (Fantasy|Musical|Romance)\n",
            "5087. Spring, Summer, Fall, Winter... and Spring (Bom yeoreum gaeul gyeoul geurigo bom) (2003) (Drama)\n"
          ]
        }
      ]
    }
  ]
}