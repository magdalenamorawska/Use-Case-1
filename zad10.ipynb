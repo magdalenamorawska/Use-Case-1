{
  "cells": [
    {
      "cell_type": "markdown",
      "metadata": {
        "id": "view-in-github",
        "colab_type": "text"
      },
      "source": [
        "<a href=\"https://colab.research.google.com/github/magdalenamorawska/Uczenie-Maszynowe-w-Finansach-/blob/TEST/zad10.ipynb\" target=\"_parent\"><img src=\"https://colab.research.google.com/assets/colab-badge.svg\" alt=\"Open In Colab\"/></a>"
      ]
    },
    {
      "cell_type": "markdown",
      "metadata": {
        "id": "7ltvDIAjGZrt"
      },
      "source": []
    },
    {
      "cell_type": "code",
      "execution_count": null,
      "metadata": {
        "id": "4fIXR3CiGA-K"
      },
      "outputs": [],
      "source": [
        "!apt-get install openjdk-8-jdk-headless -qq > /dev/null\n",
        "!wget -q http://www.apache.org/dist/spark/spark-3.5.1/spark-3.5.1-bin-hadoop3.tgz\n",
        "!tar xf spark-3.5.1-bin-hadoop3.tgz\n",
        "!pip install -q findspark==1.3.0"
      ]
    },
    {
      "cell_type": "code",
      "execution_count": null,
      "metadata": {
        "colab": {
          "base_uri": "https://localhost:8080/"
        },
        "id": "FyXyaKK8GciY",
        "outputId": "93f118b7-e609-4cd0-f3b5-037228def5bd"
      },
      "outputs": [
        {
          "name": "stdout",
          "output_type": "stream",
          "text": [
            "\u001b[2K     \u001b[90m━━━━━━━━━━━━━━━━━━━━━━━━━━━━━━━━━━━━━━━━\u001b[0m \u001b[32m317.0/317.0 MB\u001b[0m \u001b[31m2.2 MB/s\u001b[0m eta \u001b[36m0:00:00\u001b[0m\n",
            "\u001b[?25h  Preparing metadata (setup.py) ... \u001b[?25l\u001b[?25hdone\n",
            "  Building wheel for pyspark (setup.py) ... \u001b[?25l\u001b[?25hdone\n"
          ]
        }
      ],
      "source": [
        "!pip install -q pyspark==3.5.1"
      ]
    },
    {
      "cell_type": "code",
      "execution_count": null,
      "metadata": {
        "id": "dTfG1ev9GevL"
      },
      "outputs": [],
      "source": [
        "import os\n",
        "os.environ[\"JAVA_HOME\"] = \"/usr/lib/jvm/java-8-openjdk-amd64\"\n",
        "os.environ[\"SPARK_HOME\"] = \"/content/spark-3.5.1-bin-hadoop3\""
      ]
    },
    {
      "cell_type": "code",
      "execution_count": null,
      "metadata": {
        "id": "ml76qCyxGh_x"
      },
      "outputs": [],
      "source": [
        "import findspark\n",
        "import pyspark\n",
        "from pyspark.sql import SparkSession\n",
        "from pyspark import SparkContext\n",
        "\n",
        "findspark.init(\"spark-3.5.1-bin-hadoop3\")\n",
        "sc = pyspark.SparkContext('local[*]')\n",
        "spark = SparkSession.builder.appName('abc').getOrCreate()"
      ]
    },
    {
      "cell_type": "code",
      "execution_count": null,
      "metadata": {
        "colab": {
          "base_uri": "https://localhost:8080/"
        },
        "id": "Gydt7jdjGj42",
        "outputId": "211d4557-b68a-4b03-cdaf-84ae6923e4d0"
      },
      "outputs": [
        {
          "name": "stdout",
          "output_type": "stream",
          "text": [
            "               total        used        free      shared  buff/cache   available\n",
            "Mem:            12Gi       926Mi       1.8Gi       1.0Mi         9Gi        11Gi\n",
            "Swap:             0B          0B          0B\n"
          ]
        }
      ],
      "source": [
        "!free -mh # Komenda na sprawdzenie dostępnej pamięci RAM"
      ]
    },
    {
      "cell_type": "code",
      "execution_count": null,
      "metadata": {
        "colab": {
          "base_uri": "https://localhost:8080/"
        },
        "id": "5oEzlmc3Gl-N",
        "outputId": "e041da82-2aa7-4907-e0bd-c899a6f62808"
      },
      "outputs": [
        {
          "data": {
            "text/plain": [
              "[2, 3, 4]"
            ]
          },
          "execution_count": 6,
          "metadata": {},
          "output_type": "execute_result"
        }
      ],
      "source": [
        "sc.parallelize([1,2,3]).map(lambda x: x + 1).collect()"
      ]
    },
    {
      "cell_type": "code",
      "execution_count": null,
      "metadata": {
        "colab": {
          "base_uri": "https://localhost:8080/"
        },
        "id": "mGFFlJ0YHTEf",
        "outputId": "3ce2d58a-b81d-4124-b99c-9ac969921d12"
      },
      "outputs": [
        {
          "name": "stdout",
          "output_type": "stream",
          "text": [
            "Archive:  data.zip\n",
            "   creating: data/\n",
            "  inflating: data/.DS_Store          \n",
            "   creating: __MACOSX/\n",
            "   creating: __MACOSX/data/\n",
            "  inflating: __MACOSX/data/._.DS_Store  \n",
            "   creating: data/shot_charts_top_10/\n",
            "   creating: data/shot_charts_top_10/2013/\n",
            "  inflating: data/shot_charts_top_10/2013/nba_savant201933.csv  \n",
            "  inflating: data/shot_charts_top_10/2013/nba_savant2736.csv  \n",
            "  inflating: data/shot_charts_top_10/2013/nba_savant101145.csv  \n",
            "  inflating: data/shot_charts_top_10/2013/nba_savant200746.csv  \n",
            "  inflating: data/shot_charts_top_10/2013/nba_savant200752.csv  \n",
            "  inflating: data/shot_charts_top_10/2013/nba_savant201935.csv  \n",
            "  inflating: data/shot_charts_top_10/2013/nba_savant101135.csv  \n",
            "  inflating: data/shot_charts_top_10/2013/nba_savant202691.csv  \n",
            "  inflating: data/shot_charts_top_10/2013/nba_savant201950.csv  \n",
            "  inflating: data/shot_charts_top_10/2013/nba_savant202323.csv  \n",
            "  inflating: data/shot_charts_top_10/2013/nba_savant201564.csv  \n",
            "  inflating: data/shot_charts_top_10/2013/nba_savant2037.csv  \n",
            "  inflating: data/shot_charts_top_10/2013/nba_savant977.csv  \n",
            "  inflating: data/shot_charts_top_10/2013/nba_savant2744.csv  \n",
            "  inflating: data/shot_charts_top_10/2013/nba_savant2546.csv  \n",
            "  inflating: data/shot_charts_top_10/2013/nba_savant202326.csv  \n",
            "  inflating: data/shot_charts_top_10/2013/nba_savant202681.csv  \n",
            "  inflating: data/shot_charts_top_10/2013/nba_savant2430.csv  \n",
            "  inflating: data/shot_charts_top_10/2013/nba_savant201942.csv  \n",
            "  inflating: data/shot_charts_top_10/2013/nba_savant2544.csv  \n",
            "  inflating: data/shot_charts_top_10/2013/nba_savant2746.csv  \n",
            "  inflating: data/shot_charts_top_10/2013/nba_savant2747.csv  \n",
            "  inflating: data/shot_charts_top_10/2013/nba_savant201566.csv  \n",
            "  inflating: data/shot_charts_top_10/2013/nba_savant201572.csv  \n",
            "  inflating: data/shot_charts_top_10/2013/nba_savant201943.csv  \n",
            "  inflating: data/shot_charts_top_10/2013/nba_savant202331.csv  \n",
            "  inflating: data/shot_charts_top_10/2013/nba_savant202328.csv  \n",
            "  inflating: data/shot_charts_top_10/2013/nba_savant101114.csv  \n",
            "  inflating: data/shot_charts_top_10/2013/nba_savant2548.csv  \n",
            "  inflating: data/shot_charts_top_10/2013/nba_savant2561.csv  \n",
            "  inflating: data/shot_charts_top_10/2013/nba_savant2207.csv  \n",
            "  inflating: data/shot_charts_top_10/2013/nba_savant1718.csv  \n",
            "  inflating: data/shot_charts_top_10/2013/nba_savant201583.csv  \n",
            "  inflating: data/shot_charts_top_10/2013/nba_savant202689.csv  \n",
            "  inflating: data/shot_charts_top_10/2013/nba_savant201142.csv  \n",
            "  inflating: data/shot_charts_top_10/2013/nba_savant2216.csv  \n",
            "  inflating: data/shot_charts_top_10/2013/nba_savant201143.csv  \n",
            "  inflating: data/shot_charts_top_10/2013/nba_savant201939.csv  \n",
            "  inflating: data/shot_charts_top_10/2013/nba_savant203081.csv  \n",
            "  inflating: data/shot_charts_top_10/2013/nba_savant202349.csv  \n",
            "   creating: data/shot_charts_top_10/2014/\n",
            "  inflating: data/shot_charts_top_10/2014/nba_savant200794.csv  \n",
            "  inflating: data/shot_charts_top_10/2014/nba_savant200768.csv  \n",
            "  inflating: data/shot_charts_top_10/2014/nba_savant201933.csv  \n",
            "  inflating: data/shot_charts_top_10/2014/nba_savant203076.csv  \n",
            "  inflating: data/shot_charts_top_10/2014/nba_savant101145.csv  \n",
            "  inflating: data/shot_charts_top_10/2014/nba_savant200746.csv  \n",
            "  inflating: data/shot_charts_top_10/2014/nba_savant200752.csv  \n",
            "  inflating: data/shot_charts_top_10/2014/nba_savant201935.csv  \n",
            "  inflating: data/shot_charts_top_10/2014/nba_savant201952.csv  \n",
            "  inflating: data/shot_charts_top_10/2014/nba_savant201167.csv  \n",
            "  inflating: data/shot_charts_top_10/2014/nba_savant202691.csv  \n",
            "  inflating: data/shot_charts_top_10/2014/nba_savant202322.csv  \n",
            "  inflating: data/shot_charts_top_10/2014/nba_savant202083.csv  \n",
            "  inflating: data/shot_charts_top_10/2014/nba_savant2755.csv  \n",
            "  inflating: data/shot_charts_top_10/2014/nba_savant101123.csv  \n",
            "  inflating: data/shot_charts_top_10/2014/nba_savant202323.csv  \n",
            "  inflating: data/shot_charts_top_10/2014/nba_savant2037.csv  \n",
            "  inflating: data/shot_charts_top_10/2014/nba_savant2744.csv  \n",
            "  inflating: data/shot_charts_top_10/2014/nba_savant2546.csv  \n",
            "  inflating: data/shot_charts_top_10/2014/nba_savant202326.csv  \n",
            "  inflating: data/shot_charts_top_10/2014/nba_savant202681.csv  \n",
            "  inflating: data/shot_charts_top_10/2014/nba_savant202330.csv  \n",
            "  inflating: data/shot_charts_top_10/2014/nba_savant201942.csv  \n",
            "  inflating: data/shot_charts_top_10/2014/nba_savant2544.csv  \n",
            "  inflating: data/shot_charts_top_10/2014/nba_savant1717.csv  \n",
            "  inflating: data/shot_charts_top_10/2014/nba_savant201567.csv  \n",
            "  inflating: data/shot_charts_top_10/2014/nba_savant2746.csv  \n",
            "  inflating: data/shot_charts_top_10/2014/nba_savant201943.csv  \n",
            "  inflating: data/shot_charts_top_10/2014/nba_savant202331.csv  \n",
            "  inflating: data/shot_charts_top_10/2014/nba_savant202328.csv  \n",
            "  inflating: data/shot_charts_top_10/2014/nba_savant201609.csv  \n",
            "  inflating: data/shot_charts_top_10/2014/nba_savant202738.csv  \n",
            "  inflating: data/shot_charts_top_10/2014/nba_savant2207.csv  \n",
            "  inflating: data/shot_charts_top_10/2014/nba_savant201152.csv  \n",
            "  inflating: data/shot_charts_top_10/2014/nba_savant201144.csv  \n",
            "  inflating: data/shot_charts_top_10/2014/nba_savant201145.csv  \n",
            "  inflating: data/shot_charts_top_10/2014/nba_savant202689.csv  \n",
            "  inflating: data/shot_charts_top_10/2014/nba_savant202688.csv  \n",
            "  inflating: data/shot_charts_top_10/2014/nba_savant201142.csv  \n",
            "  inflating: data/shot_charts_top_10/2014/nba_savant2216.csv  \n",
            "  inflating: data/shot_charts_top_10/2014/nba_savant201939.csv  \n",
            "  inflating: data/shot_charts_top_10/2014/nba_savant203487.csv  \n",
            "  inflating: data/shot_charts_top_10/2014/nba_savant203081.csv  \n",
            "  inflating: data/shot_charts_top_10/2014/nba_savant203078.csv  \n",
            "   creating: data/shot_charts_top_10/2015/\n",
            "  inflating: data/shot_charts_top_10/2015/nba_savant203504.csv  \n",
            "  inflating: data/shot_charts_top_10/2015/nba_savant200768.csv  \n",
            "  inflating: data/shot_charts_top_10/2015/nba_savant201933.csv  \n",
            "  inflating: data/shot_charts_top_10/2015/nba_savant202340.csv  \n",
            "  inflating: data/shot_charts_top_10/2015/nba_savant203076.csv  \n",
            "  inflating: data/shot_charts_top_10/2015/nba_savant203506.csv  \n",
            "  inflating: data/shot_charts_top_10/2015/nba_savant201936.csv  \n",
            "  inflating: data/shot_charts_top_10/2015/nba_savant101145.csv  \n",
            "  inflating: data/shot_charts_top_10/2015/nba_savant200746.csv  \n",
            "  inflating: data/shot_charts_top_10/2015/nba_savant200752.csv  \n",
            "  inflating: data/shot_charts_top_10/2015/nba_savant201935.csv  \n",
            "  inflating: data/shot_charts_top_10/2015/nba_savant101108.csv  \n",
            "  inflating: data/shot_charts_top_10/2015/nba_savant202693.csv  \n",
            "  inflating: data/shot_charts_top_10/2015/nba_savant202691.csv  \n",
            "  inflating: data/shot_charts_top_10/2015/nba_savant202322.csv  \n",
            "  inflating: data/shot_charts_top_10/2015/nba_savant2744.csv  \n",
            "  inflating: data/shot_charts_top_10/2015/nba_savant202326.csv  \n",
            "  inflating: data/shot_charts_top_10/2015/nba_savant202681.csv  \n",
            "  inflating: data/shot_charts_top_10/2015/nba_savant202330.csv  \n",
            "  inflating: data/shot_charts_top_10/2015/nba_savant201188.csv  \n",
            "  inflating: data/shot_charts_top_10/2015/nba_savant2544.csv  \n",
            "  inflating: data/shot_charts_top_10/2015/nba_savant1717.csv  \n",
            "  inflating: data/shot_charts_top_10/2015/nba_savant201566.csv  \n",
            "  inflating: data/shot_charts_top_10/2015/nba_savant203952.csv  \n",
            "  inflating: data/shot_charts_top_10/2015/nba_savant202696.csv  \n",
            "  inflating: data/shot_charts_top_10/2015/nba_savant201609.csv  \n",
            "  inflating: data/shot_charts_top_10/2015/nba_savant2548.csv  \n",
            "  inflating: data/shot_charts_top_10/2015/nba_savant2207.csv  \n",
            "  inflating: data/shot_charts_top_10/2015/nba_savant2200.csv  \n",
            "  inflating: data/shot_charts_top_10/2015/nba_savant202339.csv  \n",
            "  inflating: data/shot_charts_top_10/2015/nba_savant201939.csv  \n",
            "  inflating: data/shot_charts_top_10/2015/nba_savant203081.csv  \n",
            "   creating: data/shot_charts_top_10/2012/\n",
            "  inflating: data/shot_charts_top_10/2012/nba_savant201933.csv  \n",
            "  inflating: data/shot_charts_top_10/2012/nba_savant101145.csv  \n",
            "  inflating: data/shot_charts_top_10/2012/nba_savant200752.csv  \n",
            "  inflating: data/shot_charts_top_10/2012/nba_savant1712.csv  \n",
            "  inflating: data/shot_charts_top_10/2012/nba_savant977.csv  \n",
            "  inflating: data/shot_charts_top_10/2012/nba_savant2744.csv  \n",
            "  inflating: data/shot_charts_top_10/2012/nba_savant2546.csv  \n",
            "  inflating: data/shot_charts_top_10/2012/nba_savant2544.csv  \n",
            "  inflating: data/shot_charts_top_10/2012/nba_savant1717.csv  \n",
            "  inflating: data/shot_charts_top_10/2012/nba_savant201567.csv  \n",
            "  inflating: data/shot_charts_top_10/2012/nba_savant2746.csv  \n",
            "  inflating: data/shot_charts_top_10/2012/nba_savant201566.csv  \n",
            "  inflating: data/shot_charts_top_10/2012/nba_savant201943.csv  \n",
            "  inflating: data/shot_charts_top_10/2012/nba_savant201142.csv  \n",
            "  inflating: data/shot_charts_top_10/.DS_Store  \n",
            "   creating: __MACOSX/data/shot_charts_top_10/\n",
            "  inflating: __MACOSX/data/shot_charts_top_10/._.DS_Store  \n",
            "  inflating: data/shot_charts_top_10/1000_plus_shot_charts_2011_2016.csv  \n",
            "   creating: data/shot_charts_top_10/2011/\n",
            "  inflating: data/shot_charts_top_10/2011/nba_savant201933.csv  \n",
            "  inflating: data/shot_charts_top_10/2011/nba_savant2736.csv  \n",
            "  inflating: data/shot_charts_top_10/2011/nba_savant200745.csv  \n",
            "  inflating: data/shot_charts_top_10/2011/nba_savant101145.csv  \n",
            "  inflating: data/shot_charts_top_10/2011/nba_savant200746.csv  \n",
            "  inflating: data/shot_charts_top_10/2011/nba_savant2730.csv  \n",
            "  inflating: data/shot_charts_top_10/2011/nba_savant101109.csv  \n",
            "  inflating: data/shot_charts_top_10/2011/nba_savant201563.csv  \n",
            "  inflating: data/shot_charts_top_10/2011/nba_savant101122.csv  \n",
            "  inflating: data/shot_charts_top_10/2011/nba_savant2755.csv  \n",
            "  inflating: data/shot_charts_top_10/2011/nba_savant2225.csv  \n",
            "  inflating: data/shot_charts_top_10/2011/nba_savant2547.csv  \n",
            "  inflating: data/shot_charts_top_10/2011/nba_savant977.csv  \n",
            "  inflating: data/shot_charts_top_10/2011/nba_savant2744.csv  \n",
            "  inflating: data/shot_charts_top_10/2011/nba_savant201565.csv  \n",
            "  inflating: data/shot_charts_top_10/2011/nba_savant2546.csv  \n",
            "  inflating: data/shot_charts_top_10/2011/nba_savant1891.csv  \n",
            "  inflating: data/shot_charts_top_10/2011/nba_savant202326.csv  \n",
            "  inflating: data/shot_charts_top_10/2011/nba_savant201942.csv  \n",
            "  inflating: data/shot_charts_top_10/2011/nba_savant2544.csv  \n",
            "  inflating: data/shot_charts_top_10/2011/nba_savant1717.csv  \n",
            "  inflating: data/shot_charts_top_10/2011/nba_savant201567.csv  \n",
            "  inflating: data/shot_charts_top_10/2011/nba_savant2746.csv  \n",
            "  inflating: data/shot_charts_top_10/2011/nba_savant201566.csv  \n",
            "  inflating: data/shot_charts_top_10/2011/nba_savant201572.csv  \n",
            "  inflating: data/shot_charts_top_10/2011/nba_savant2419.csv  \n",
            "  inflating: data/shot_charts_top_10/2011/nba_savant2548.csv  \n",
            "  inflating: data/shot_charts_top_10/2011/nba_savant2561.csv  \n",
            "  inflating: data/shot_charts_top_10/2011/nba_savant2207.csv  \n",
            "  inflating: data/shot_charts_top_10/2011/nba_savant1718.csv  \n",
            "  inflating: data/shot_charts_top_10/2011/nba_savant2748.csv  \n",
            "  inflating: data/shot_charts_top_10/2011/nba_savant2200.csv  \n",
            "  inflating: data/shot_charts_top_10/2011/nba_savant1536.csv  \n",
            "  inflating: data/shot_charts_top_10/2011/nba_savant201142.csv  \n",
            "  inflating: data/shot_charts_top_10/2011/nba_savant2405.csv  \n",
            "  inflating: data/shot_charts_top_10/2011/nba_savant2202.csv  \n",
            "  inflating: data/shot_charts_top_10/2011/nba_savant2216.csv  \n",
            "  inflating: data/shot_charts_top_10/2011/nba_savant1938.csv  \n",
            "  inflating: data/shot_charts_top_10/2011/nba_savant201939.csv  \n",
            "  inflating: data/shot_charts_top_10/2011/nba_savant2449.csv  \n",
            "   creating: data/shot_charts_top_10/2016/\n",
            "  inflating: data/shot_charts_top_10/2016/nba_savant200794.csv  \n",
            "  inflating: data/shot_charts_top_10/2016/nba_savant203114.csv  \n",
            "  inflating: data/shot_charts_top_10/2016/nba_savant200768.csv  \n",
            "  inflating: data/shot_charts_top_10/2016/nba_savant203076.csv  \n",
            "  inflating: data/shot_charts_top_10/2016/nba_savant200746.csv  \n",
            "  inflating: data/shot_charts_top_10/2016/nba_savant200752.csv  \n",
            "  inflating: data/shot_charts_top_10/2016/nba_savant201935.csv  \n",
            "  inflating: data/shot_charts_top_10/2016/nba_savant101108.csv  \n",
            "  inflating: data/shot_charts_top_10/2016/nba_savant202691.csv  \n",
            "  inflating: data/shot_charts_top_10/2016/nba_savant202322.csv  \n",
            "  inflating: data/shot_charts_top_10/2016/nba_savant977.csv  \n",
            "  inflating: data/shot_charts_top_10/2016/nba_savant2546.csv  \n",
            "  inflating: data/shot_charts_top_10/2016/nba_savant202326.csv  \n",
            "  inflating: data/shot_charts_top_10/2016/nba_savant202695.csv  \n",
            "  inflating: data/shot_charts_top_10/2016/nba_savant202330.csv  \n",
            "  inflating: data/shot_charts_top_10/2016/nba_savant201942.csv  \n",
            "  inflating: data/shot_charts_top_10/2016/nba_savant2544.csv  \n",
            "  inflating: data/shot_charts_top_10/2016/nba_savant1717.csv  \n",
            "  inflating: data/shot_charts_top_10/2016/nba_savant201566.csv  \n",
            "  inflating: data/shot_charts_top_10/2016/nba_savant203952.csv  \n",
            "  inflating: data/shot_charts_top_10/2016/nba_savant202331.csv  \n",
            "  inflating: data/shot_charts_top_10/2016/nba_savant2548.csv  \n",
            "  inflating: data/shot_charts_top_10/2016/nba_savant202738.csv  \n",
            "  inflating: data/shot_charts_top_10/2016/nba_savant202704.csv  \n",
            "  inflating: data/shot_charts_top_10/2016/nba_savant202710.csv  \n",
            "  inflating: data/shot_charts_top_10/2016/nba_savant202689.csv  \n",
            "  inflating: data/shot_charts_top_10/2016/nba_savant201142.csv  \n",
            "  inflating: data/shot_charts_top_10/2016/nba_savant201143.csv  \n",
            "  inflating: data/shot_charts_top_10/2016/nba_savant1626157.csv  \n",
            "  inflating: data/shot_charts_top_10/2016/nba_savant203083.csv  \n",
            "  inflating: data/shot_charts_top_10/2016/nba_savant203081.csv  \n",
            "  inflating: data/shot_charts_top_10/2016/nba_savant203903.csv  \n",
            "  inflating: data/shot_charts_top_10/2016/nba_savant201939 (1).csv  \n",
            "  inflating: data/shot_charts_top_10/2016/nba_savant203468.csv  \n",
            "  inflating: data/shot_charts_top_10/top_10_shot_charts_2011_2016.csv  \n",
            "  inflating: data/season_totals.csv  \n",
            "  inflating: data/nba_savant.csv     \n"
          ]
        }
      ],
      "source": [
        "!unzip data.zip"
      ]
    },
    {
      "cell_type": "markdown",
      "source": [
        "Wgrywam dane i uzupelniam ewentualne braki"
      ],
      "metadata": {
        "id": "YDLIZL6OKXSr"
      }
    },
    {
      "cell_type": "code",
      "execution_count": null,
      "metadata": {
        "colab": {
          "background_save": true
        },
        "id": "q6UBGAxAJIGY"
      },
      "outputs": [],
      "source": [
        "df = spark.read.option('header','true')\\\n",
        "          .option('inferSchema','true')\\\n",
        "          .csv('data/season_totals.csv')"
      ]
    },
    {
      "cell_type": "code",
      "source": [
        "df.limit(5).show()"
      ],
      "metadata": {
        "colab": {
          "base_uri": "https://localhost:8080/"
        },
        "id": "frKLy9Z9JU_Y",
        "outputId": "7870dd8a-1bd0-4347-e9f1-5c647f3d641e"
      },
      "execution_count": 11,
      "outputs": [
        {
          "output_type": "stream",
          "name": "stdout",
          "text": [
            "+---+-------------------+---+---+-------+---+----+----+---+----+------+---+----+-------+---+----+-------+-------+---+---+------+---+---+---+---+---+---+---+---+----+----+\n",
            "|_c0|             player|pos|age|team_id|  g|  gs|  mp| fg| fga|fg_pct|fg3|fg3a|fg3_pct|fg2|fg2a|fg2_pct|efg_pct| ft|fta|ft_pct|orb|drb|trb|ast|stl|blk|tov| pf| pts|  yr|\n",
            "+---+-------------------+---+---+-------+---+----+----+---+----+------+---+----+-------+---+----+-------+-------+---+---+------+---+---+---+---+---+---+---+---+----+----+\n",
            "|  0|Abdul-Jabbar,Kareem|  C| 32|    LAL| 82|NULL|3143|835|1383| 0.604|  0|   1|    0.0|835|1382|  0.604|  0.604|364|476| 0.765|190|696|886|371| 81|280|297|216|2034|1980|\n",
            "|  1|      Abernethy,Tom| PF| 25|    GSW| 67|NULL|1222|153| 318| 0.481|  0|   1|    0.0|153| 317|  0.483|  0.481| 56| 82| 0.683| 62|129|191| 87| 35| 12| 39|118| 362|1980|\n",
            "|  2|        Adams,Alvan|  C| 25|    PHO| 75|NULL|2168|465| 875| 0.531|  0|   2|    0.0|465| 873|  0.533|  0.531|188|236| 0.797|158|451|609|322|108| 55|218|237|1118|1980|\n",
            "|  3|     Archibald,Tiny| PG| 31|    BOS| 80|  80|2864|383| 794| 0.482|  4|  18|  0.222|379| 776|  0.488|  0.485|361|435|  0.83| 59|138|197|671|106| 10|242|218|1131|1980|\n",
            "|  4|      Awtrey,Dennis|  C| 31|    CHI| 26|NULL| 560| 27|  60|  0.45|  0|   0|   NULL| 27|  60|   0.45|   0.45| 32| 50|  0.64| 29| 86|115| 40| 12| 15| 27| 66|  86|1980|\n",
            "+---+-------------------+---+---+-------+---+----+----+---+----+------+---+----+-------+---+----+-------+-------+---+---+------+---+---+---+---+---+---+---+---+----+----+\n",
            "\n"
          ]
        }
      ]
    },
    {
      "cell_type": "code",
      "source": [
        "data = df.select(\"yr\", \"fg\", \"fga\", \"player\")\n",
        "data = data.dropna()\n"
      ],
      "metadata": {
        "id": "1KIFbhRDJzLi"
      },
      "execution_count": 13,
      "outputs": []
    },
    {
      "cell_type": "code",
      "source": [
        "from pyspark.ml.feature import VectorAssembler\n",
        "from pyspark.ml.regression import LinearRegression\n",
        "from pyspark.ml.evaluation import RegressionEvaluator\n"
      ],
      "metadata": {
        "id": "fPMgKpvSJ-pI"
      },
      "execution_count": 14,
      "outputs": []
    },
    {
      "cell_type": "markdown",
      "source": [
        "trenowanie modelu:\n",
        "- przygotowanie danych\n",
        "- podział na testowe i treningowe\n",
        "- inizjalizacja i trenowanie modelu"
      ],
      "metadata": {
        "id": "4q7VbcFqKe4Q"
      }
    },
    {
      "cell_type": "code",
      "source": [
        "assembler = VectorAssembler(inputCols=[\"yr\"], outputCol=\"features\")\n",
        "data = assembler.transform(data)\n"
      ],
      "metadata": {
        "id": "dkyWKhBbKDYW"
      },
      "execution_count": 15,
      "outputs": []
    },
    {
      "cell_type": "code",
      "source": [
        "train_data, test_data = data.randomSplit([0.8, 0.2])\n"
      ],
      "metadata": {
        "id": "7kcR-ZcjKFv5"
      },
      "execution_count": 16,
      "outputs": []
    },
    {
      "cell_type": "code",
      "source": [
        "lr = LinearRegression(featuresCol=\"features\", labelCol=\"fga\")\n",
        "lr_model = lr.fit(train_data)"
      ],
      "metadata": {
        "id": "KjdTQbgTKHrV"
      },
      "execution_count": 17,
      "outputs": []
    },
    {
      "cell_type": "markdown",
      "source": [
        "Predykcja:\n",
        "- ewaluacja modelu, obliczenie dopasowania\n",
        "-stworzenie dataframe dla roku 2022 i zaprognozowanie liczby rzutów"
      ],
      "metadata": {
        "id": "DDRS3plxKvlv"
      }
    },
    {
      "cell_type": "code",
      "source": [
        "predictions = lr_model.transform(test_data)\n",
        "predictions.select(\"yr\", \"fga\", \"prediction\").show()"
      ],
      "metadata": {
        "colab": {
          "base_uri": "https://localhost:8080/"
        },
        "id": "h3MoAyshKKkB",
        "outputId": "bd0d1e2f-054a-4001-b9d0-621f864faa04"
      },
      "execution_count": 18,
      "outputs": [
        {
          "output_type": "stream",
          "name": "stdout",
          "text": [
            "+----+---+------------------+\n",
            "|  yr|fga|        prediction|\n",
            "+----+---+------------------+\n",
            "|1980|  3|476.85195613862015|\n",
            "|1980| 11|476.85195613862015|\n",
            "|1980| 13|476.85195613862015|\n",
            "|1980| 24|476.85195613862015|\n",
            "|1980| 25|476.85195613862015|\n",
            "|1980| 33|476.85195613862015|\n",
            "|1980| 37|476.85195613862015|\n",
            "|1980| 64|476.85195613862015|\n",
            "|1980| 50|476.85195613862015|\n",
            "|1980| 69|476.85195613862015|\n",
            "|1980| 56|476.85195613862015|\n",
            "|1980| 63|476.85195613862015|\n",
            "|1980| 65|476.85195613862015|\n",
            "|1980|104|476.85195613862015|\n",
            "|1980|105|476.85195613862015|\n",
            "|1980| 79|476.85195613862015|\n",
            "|1980|136|476.85195613862015|\n",
            "|1980|146|476.85195613862015|\n",
            "|1980|140|476.85195613862015|\n",
            "|1980|137|476.85195613862015|\n",
            "+----+---+------------------+\n",
            "only showing top 20 rows\n",
            "\n"
          ]
        }
      ]
    },
    {
      "cell_type": "code",
      "source": [
        "evaluator = RegressionEvaluator(labelCol=\"fga\", predictionCol=\"prediction\", metricName=\"rmse\")\n",
        "rmse = evaluator.evaluate(predictions)\n",
        "print(f\"Root Mean Squared Error (RMSE): {rmse}\")"
      ],
      "metadata": {
        "colab": {
          "base_uri": "https://localhost:8080/"
        },
        "id": "q-gPrJy2KMze",
        "outputId": "18bcd100-e76c-4bb4-f697-218a97d66f60"
      },
      "execution_count": 19,
      "outputs": [
        {
          "output_type": "stream",
          "name": "stdout",
          "text": [
            "Root Mean Squared Error (RMSE): 374.3555313722813\n"
          ]
        }
      ]
    },
    {
      "cell_type": "code",
      "source": [
        "data_2022 = spark.createDataFrame([(2022,)], [\"yr\"])\n",
        "data_2022 = assembler.transform(data_2022)\n",
        "\n",
        "prediction_2022 = lr_model.transform(data_2022)\n",
        "prediction_2022.select(\"prediction\").show()"
      ],
      "metadata": {
        "colab": {
          "base_uri": "https://localhost:8080/"
        },
        "id": "MlSaCcP-KPII",
        "outputId": "da282d8a-14f3-4595-e563-71fec4713d1d"
      },
      "execution_count": 20,
      "outputs": [
        {
          "output_type": "stream",
          "name": "stdout",
          "text": [
            "+-----------------+\n",
            "|       prediction|\n",
            "+-----------------+\n",
            "|323.2735443456286|\n",
            "+-----------------+\n",
            "\n"
          ]
        }
      ]
    }
  ],
  "metadata": {
    "colab": {
      "provenance": [],
      "authorship_tag": "ABX9TyMwA3Dk18EiVKcYZDSPaDND",
      "include_colab_link": true
    },
    "kernelspec": {
      "display_name": "Python 3",
      "name": "python3"
    },
    "language_info": {
      "name": "python"
    }
  },
  "nbformat": 4,
  "nbformat_minor": 0
}